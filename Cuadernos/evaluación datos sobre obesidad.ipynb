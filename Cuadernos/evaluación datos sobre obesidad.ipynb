{
 "cells": [
  {
   "cell_type": "markdown",
   "id": "3acf3a7e-dd3e-434d-a29a-071d62d9f738",
   "metadata": {},
   "source": [
    "# Evaluación datos sobre \n",
    "### Intgrantes: \n",
    "              Jonathan Alonso\n",
    "              Jehison Torres \n",
    "### Introducción:\n",
    "              \n",
    "Conjunto de datos para la estimación de los niveles de obesidad en función de los hábitos alimentarios y la condición física en individuos de Colombia, Perú y México"
   ]
  },
  {
   "cell_type": "code",
   "execution_count": 9,
   "id": "e20314ee-d38b-47b9-a03c-447b595e5806",
   "metadata": {},
   "outputs": [],
   "source": [
    "import pandas as pd"
   ]
  },
  {
   "cell_type": "code",
   "execution_count": 18,
   "id": "d4797708-ff0e-48ef-a0a2-ee55d183cfb1",
   "metadata": {},
   "outputs": [
    {
     "data": {
      "text/plain": [
       "(2111,\n",
       " 17,\n",
       " ['Age', 'Height', 'Weight', 'FCVC', 'NCP', 'CH2O', 'FAF', 'TUE'],\n",
       " ['Gender',\n",
       "  'family_history_with_overweight',\n",
       "  'FAVC',\n",
       "  'CAEC',\n",
       "  'SMOKE',\n",
       "  'SCC',\n",
       "  'CALC',\n",
       "  'MTRANS',\n",
       "  'NObeyesdad'])"
      ]
     },
     "execution_count": 18,
     "metadata": {},
     "output_type": "execute_result"
    }
   ],
   "source": [
    "# Cargar el archivo\n",
    "file_path = '../Datos/ObesityDataSet_raw_and_data_sinthetic.csv'\n",
    "data = pd.read_csv(file_path)\n",
    "\n",
    "# Determinar la cantidad de variables y registros\n",
    "num_records = data.shape[0]\n",
    "num_variables = data.shape[1]\n",
    "\n",
    "# Filtrar las variables numéricas y cualitativas\n",
    "numeric_vars = data.select_dtypes(include=['float64', 'int64']).columns.tolist()\n",
    "qualitative_vars = data.select_dtypes(include=['object']).columns.tolist()\n",
    "\n",
    "num_records, num_variables, numeric_vars, qualitative_vars"
   ]
  }
 ],
 "metadata": {
  "kernelspec": {
   "display_name": "Guia_3",
   "language": "python",
   "name": "guia_3"
  },
  "language_info": {
   "codemirror_mode": {
    "name": "ipython",
    "version": 3
   },
   "file_extension": ".py",
   "mimetype": "text/x-python",
   "name": "python",
   "nbconvert_exporter": "python",
   "pygments_lexer": "ipython3",
   "version": "3.12.7"
  }
 },
 "nbformat": 4,
 "nbformat_minor": 5
}
